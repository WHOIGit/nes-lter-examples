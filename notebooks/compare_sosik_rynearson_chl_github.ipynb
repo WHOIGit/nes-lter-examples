{
 "cells": [
  {
   "cell_type": "markdown",
   "metadata": {},
   "source": [
    "## NES-LTER: Comparison between Sosik and Rynearson size-fractionated chlorophyll estimates\n",
    "\n",
    "This notebook combines chlorophyll concentration estimates across two NES-LTER labs."
   ]
  },
  {
   "cell_type": "markdown",
   "metadata": {},
   "source": [
    "Read cleaned data from GitHub"
   ]
  },
  {
   "cell_type": "code",
   "execution_count": 1,
   "metadata": {},
   "outputs": [],
   "source": [
    "import pandas as pd\n",
    "\n",
    "BASE_URL = 'https://raw.githubusercontent.com/WHOIGit/nes-lter-examples/master/data/'\n",
    "\n",
    "sosik_chl = pd.read_csv(BASE_URL + 'neslter_sosik_chl.csv')\n",
    "ryn_chl = pd.read_csv(BASE_URL + 'neslter_rynearson_chl.csv')"
   ]
  },
  {
   "cell_type": "markdown",
   "metadata": {},
   "source": [
    "Samples are replicated, so the chlorophyll concentration needs to be averaged across those replicates, per mesh size"
   ]
  },
  {
   "cell_type": "code",
   "execution_count": 2,
   "metadata": {},
   "outputs": [
    {
     "data": {
      "text/html": [
       "<div>\n",
       "<style scoped>\n",
       "    .dataframe tbody tr th:only-of-type {\n",
       "        vertical-align: middle;\n",
       "    }\n",
       "\n",
       "    .dataframe tbody tr th {\n",
       "        vertical-align: top;\n",
       "    }\n",
       "\n",
       "    .dataframe thead th {\n",
       "        text-align: right;\n",
       "    }\n",
       "</style>\n",
       "<table border=\"1\" class=\"dataframe\">\n",
       "  <thead>\n",
       "    <tr style=\"text-align: right;\">\n",
       "      <th></th>\n",
       "      <th>cruise</th>\n",
       "      <th>cast</th>\n",
       "      <th>niskin</th>\n",
       "      <th>filter_mesh_size</th>\n",
       "      <th>chl</th>\n",
       "    </tr>\n",
       "  </thead>\n",
       "  <tbody>\n",
       "    <tr>\n",
       "      <th>0</th>\n",
       "      <td>EN608</td>\n",
       "      <td>4</td>\n",
       "      <td>12</td>\n",
       "      <td>&gt;5</td>\n",
       "      <td>3.234257</td>\n",
       "    </tr>\n",
       "    <tr>\n",
       "      <th>1</th>\n",
       "      <td>EN608</td>\n",
       "      <td>12</td>\n",
       "      <td>8</td>\n",
       "      <td>&gt;5</td>\n",
       "      <td>1.328368</td>\n",
       "    </tr>\n",
       "    <tr>\n",
       "      <th>2</th>\n",
       "      <td>EN608</td>\n",
       "      <td>12</td>\n",
       "      <td>11</td>\n",
       "      <td>&gt;5</td>\n",
       "      <td>1.844982</td>\n",
       "    </tr>\n",
       "  </tbody>\n",
       "</table>\n",
       "</div>"
      ],
      "text/plain": [
       "  cruise  cast  niskin filter_mesh_size       chl\n",
       "0  EN608     4      12               >5  3.234257\n",
       "1  EN608    12       8               >5  1.328368\n",
       "2  EN608    12      11               >5  1.844982"
      ]
     },
     "execution_count": 2,
     "metadata": {},
     "output_type": "execute_result"
    }
   ],
   "source": [
    "def average_replicates(chl, replicates=['a','b'], var='chl'):\n",
    "    rows = []\n",
    "    # group by cruise, cast, niskin, and filter mesh size\n",
    "    for ccnf, sdf in chl.groupby(['cruise','cast','niskin','filter_mesh_size']):\n",
    "        # remove all rows except the replicates we want\n",
    "        sdf_reps = sdf[sdf['replicate'].isin(replicates)]\n",
    "        # average the variable\n",
    "        var_average = sdf_reps[var].mean()\n",
    "        # construct the output row\n",
    "        row = ccnf + (var_average,)\n",
    "        rows.append(row)\n",
    "    return pd.DataFrame(rows, columns=['cruise','cast','niskin','filter_mesh_size',var])\n",
    "\n",
    "def with_mesh_size(df, mesh_size):\n",
    "    df = df[df['filter_mesh_size'] == mesh_size]\n",
    "    return df\n",
    "\n",
    "def avg_reps(df, mesh_size):\n",
    "    return average_replicates(with_mesh_size(df, mesh_size)).dropna()\n",
    "\n",
    "ryn_chl_gt20 = avg_reps(ryn_chl, '>20')\n",
    "ryn_chl_gt5 = avg_reps(ryn_chl, '>5')\n",
    "sosik_chl_gt20 = avg_reps(sosik_chl, '>20')\n",
    "sosik_chl_gt5 = avg_reps(sosik_chl, '>5')\n",
    "sosik_chl_gt5"
   ]
  },
  {
   "cell_type": "markdown",
   "metadata": {},
   "source": [
    "Now merge the Sosik and Rynearson data on cruise/cast/niskin to find comparable values"
   ]
  },
  {
   "cell_type": "code",
   "execution_count": 3,
   "metadata": {},
   "outputs": [
    {
     "data": {
      "text/html": [
       "<div>\n",
       "<style scoped>\n",
       "    .dataframe tbody tr th:only-of-type {\n",
       "        vertical-align: middle;\n",
       "    }\n",
       "\n",
       "    .dataframe tbody tr th {\n",
       "        vertical-align: top;\n",
       "    }\n",
       "\n",
       "    .dataframe thead th {\n",
       "        text-align: right;\n",
       "    }\n",
       "</style>\n",
       "<table border=\"1\" class=\"dataframe\">\n",
       "  <thead>\n",
       "    <tr style=\"text-align: right;\">\n",
       "      <th></th>\n",
       "      <th></th>\n",
       "      <th>Rynearson</th>\n",
       "      <th>Sosik</th>\n",
       "    </tr>\n",
       "    <tr>\n",
       "      <th>cast</th>\n",
       "      <th>niskin</th>\n",
       "      <th></th>\n",
       "      <th></th>\n",
       "    </tr>\n",
       "  </thead>\n",
       "  <tbody>\n",
       "    <tr>\n",
       "      <th>4</th>\n",
       "      <th>12</th>\n",
       "      <td>3.599091</td>\n",
       "      <td>3.234257</td>\n",
       "    </tr>\n",
       "    <tr>\n",
       "      <th rowspan=\"2\" valign=\"top\">12</th>\n",
       "      <th>8</th>\n",
       "      <td>1.499998</td>\n",
       "      <td>1.328368</td>\n",
       "    </tr>\n",
       "    <tr>\n",
       "      <th>11</th>\n",
       "      <td>1.792755</td>\n",
       "      <td>1.844982</td>\n",
       "    </tr>\n",
       "  </tbody>\n",
       "</table>\n",
       "</div>"
      ],
      "text/plain": [
       "             Rynearson     Sosik\n",
       "cast niskin                     \n",
       "4    12       3.599091  3.234257\n",
       "12   8        1.499998  1.328368\n",
       "     11       1.792755  1.844982"
      ]
     },
     "execution_count": 3,
     "metadata": {},
     "output_type": "execute_result"
    }
   ],
   "source": [
    "def merge_chl(ryn, sosik):\n",
    "    df = ryn.merge(sosik, on=['cruise','cast','niskin'])\n",
    "    df = df.rename(columns={\n",
    "        'chl_x': 'Rynearson',\n",
    "        'chl_y': 'Sosik'\n",
    "    })\n",
    "    df = df.set_index(['cast','niskin'])\n",
    "    return df[['Rynearson','Sosik']]\n",
    "\n",
    "gt5 = merge_chl(ryn_chl_gt5, sosik_chl_gt5)\n",
    "gt20 = merge_chl(ryn_chl_gt20, sosik_chl_gt20)\n",
    "gt5"
   ]
  },
  {
   "cell_type": "code",
   "execution_count": 4,
   "metadata": {},
   "outputs": [
    {
     "data": {
      "image/png": "[encoded data removed]",
      "text/plain": [
       "<Figure size 432x288 with 1 Axes>"
      ]
     },
     "metadata": {
      "needs_background": "light"
     },
     "output_type": "display_data"
    }
   ],
   "source": [
    "%matplotlib inline\n",
    "gt5.plot.bar(title='chl >5µm, EN608');"
   ]
  },
  {
   "cell_type": "code",
   "execution_count": 5,
   "metadata": {},
   "outputs": [
    {
     "data": {
      "image/png": "[encoded data removed]",
      "text/plain": [
       "<Figure size 432x288 with 1 Axes>"
      ]
     },
     "metadata": {
      "needs_background": "light"
     },
     "output_type": "display_data"
    }
   ],
   "source": [
    "gt20.plot.bar(title='chl >20µm, EN608');"
   ]
  }
 ],
 "metadata": {
  "kernelspec": {
   "display_name": "Python [conda env:nes-lter-ims-dev]",
   "language": "python",
   "name": "conda-env-nes-lter-ims-dev-py"
  },
  "language_info": {
   "codemirror_mode": {
    "name": "ipython",
    "version": 3
   },
   "file_extension": ".py",
   "mimetype": "text/x-python",
   "name": "python",
   "nbconvert_exporter": "python",
   "pygments_lexer": "ipython3",
   "version": "3.6.6"
  }
 },
 "nbformat": 4,
 "nbformat_minor": 2
}
