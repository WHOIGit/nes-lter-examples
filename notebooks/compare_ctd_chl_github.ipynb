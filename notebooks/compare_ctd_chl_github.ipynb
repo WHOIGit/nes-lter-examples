{
 "cells": [
  {
   "cell_type": "markdown",
   "metadata": {},
   "source": [
    "## NES-LTER: Comparison between CTD and sampled chlorophyll concentration estimates\n",
    "\n",
    "This notebook combines chlorophyll concentration estimates derived from a CTD-mounted fluorometer with corresponding estaimates derived from lab processing of samples. This enables confirming that the estimates match, which aids in the decision of when to take samples."
   ]
  },
  {
   "cell_type": "code",
   "execution_count": 6,
   "metadata": {},
   "outputs": [],
   "source": [
    "import pandas as pd\n",
    "\n",
    "BASE_URL = 'https://raw.githubusercontent.com/WHOIGit/nes-lter-examples/master/data/'\n",
    "\n",
    "chl = pd.read_csv(BASE_URL + 'neslter_sosik_chl.csv')\n",
    "btl = pd.read_csv(BASE_URL + 'en608_btl.csv')"
   ]
  },
  {
   "cell_type": "markdown",
   "metadata": {},
   "source": [
    "Samples are replicated, so the chlorophyll concentration needs to be averaged across those replicates. This uses a function called [`average_replicates`](https://github.com/WHOIGit/nes-lter-ims/blob/master/neslter/analysis/chl.py)"
   ]
  },
  {
   "cell_type": "code",
   "execution_count": 12,
   "metadata": {},
   "outputs": [],
   "source": [
    "def average_replicates(chl, replicates=['a','b'], var='chl'):\n",
    "    rows = []\n",
    "    # group by cruise, cast, niskin, and filter mesh size\n",
    "    for ccnf, sdf in chl.groupby(['cruise','cast','niskin','filter_mesh_size']):\n",
    "        # remove all rows except the replicates we want\n",
    "        sdf_reps = sdf[sdf['replicate'].isin(replicates)]\n",
    "        # average the variable\n",
    "        var_average = sdf_reps[var].mean()\n",
    "        # construct the output row\n",
    "        row = ccnf + (var_average,)\n",
    "        rows.append(row)\n",
    "    return pd.DataFrame(rows, columns=['cruise','cast','niskin','filter_mesh_size',var])"
   ]
  },
  {
   "cell_type": "code",
   "execution_count": 13,
   "metadata": {},
   "outputs": [
    {
     "data": {
      "text/html": [
       "<div>\n",
       "<style scoped>\n",
       "    .dataframe tbody tr th:only-of-type {\n",
       "        vertical-align: middle;\n",
       "    }\n",
       "\n",
       "    .dataframe tbody tr th {\n",
       "        vertical-align: top;\n",
       "    }\n",
       "\n",
       "    .dataframe thead th {\n",
       "        text-align: right;\n",
       "    }\n",
       "</style>\n",
       "<table border=\"1\" class=\"dataframe\">\n",
       "  <thead>\n",
       "    <tr style=\"text-align: right;\">\n",
       "      <th></th>\n",
       "      <th>cruise</th>\n",
       "      <th>cast</th>\n",
       "      <th>niskin</th>\n",
       "      <th>filter_mesh_size</th>\n",
       "      <th>chl</th>\n",
       "    </tr>\n",
       "  </thead>\n",
       "  <tbody>\n",
       "    <tr>\n",
       "      <th>0</th>\n",
       "      <td>AR22</td>\n",
       "      <td>2</td>\n",
       "      <td>2</td>\n",
       "      <td>&gt;0</td>\n",
       "      <td>0.483914</td>\n",
       "    </tr>\n",
       "    <tr>\n",
       "      <th>2</th>\n",
       "      <td>AR22</td>\n",
       "      <td>3</td>\n",
       "      <td>3</td>\n",
       "      <td>&gt;0</td>\n",
       "      <td>0.274832</td>\n",
       "    </tr>\n",
       "    <tr>\n",
       "      <th>3</th>\n",
       "      <td>AR22</td>\n",
       "      <td>3</td>\n",
       "      <td>5</td>\n",
       "      <td>&gt;0</td>\n",
       "      <td>1.575510</td>\n",
       "    </tr>\n",
       "    <tr>\n",
       "      <th>4</th>\n",
       "      <td>AR22</td>\n",
       "      <td>4</td>\n",
       "      <td>6</td>\n",
       "      <td>&gt;0</td>\n",
       "      <td>0.608864</td>\n",
       "    </tr>\n",
       "    <tr>\n",
       "      <th>5</th>\n",
       "      <td>AR22</td>\n",
       "      <td>5</td>\n",
       "      <td>1</td>\n",
       "      <td>&gt;0</td>\n",
       "      <td>0.168525</td>\n",
       "    </tr>\n",
       "  </tbody>\n",
       "</table>\n",
       "</div>"
      ],
      "text/plain": [
       "  cruise  cast  niskin filter_mesh_size       chl\n",
       "0   AR22     2       2               >0  0.483914\n",
       "2   AR22     3       3               >0  0.274832\n",
       "3   AR22     3       5               >0  1.575510\n",
       "4   AR22     4       6               >0  0.608864\n",
       "5   AR22     5       1               >0  0.168525"
      ]
     },
     "execution_count": 13,
     "metadata": {},
     "output_type": "execute_result"
    }
   ],
   "source": [
    "chl_avg = average_replicates(chl)\n",
    "\n",
    "# now only include WSW\n",
    "chl_avg = chl_avg[chl_avg['filter_mesh_size'] == '>0']\n",
    "chl_avg.head()"
   ]
  },
  {
   "cell_type": "markdown",
   "metadata": {},
   "source": [
    "Now the two datasets need to be collated so that they align on cruise, cast, and niskin bottle number."
   ]
  },
  {
   "cell_type": "code",
   "execution_count": 9,
   "metadata": {},
   "outputs": [
    {
     "data": {
      "text/html": [
       "<div>\n",
       "<style scoped>\n",
       "    .dataframe tbody tr th:only-of-type {\n",
       "        vertical-align: middle;\n",
       "    }\n",
       "\n",
       "    .dataframe tbody tr th {\n",
       "        vertical-align: top;\n",
       "    }\n",
       "\n",
       "    .dataframe thead th {\n",
       "        text-align: right;\n",
       "    }\n",
       "</style>\n",
       "<table border=\"1\" class=\"dataframe\">\n",
       "  <thead>\n",
       "    <tr style=\"text-align: right;\">\n",
       "      <th></th>\n",
       "      <th>cruise</th>\n",
       "      <th>cast</th>\n",
       "      <th>niskin</th>\n",
       "      <th>chl</th>\n",
       "      <th>fleco_afl</th>\n",
       "      <th>par</th>\n",
       "    </tr>\n",
       "  </thead>\n",
       "  <tbody>\n",
       "    <tr>\n",
       "      <th>0</th>\n",
       "      <td>EN608</td>\n",
       "      <td>1</td>\n",
       "      <td>2</td>\n",
       "      <td>5.737033</td>\n",
       "      <td>3.9609</td>\n",
       "      <td>4.395900e+00</td>\n",
       "    </tr>\n",
       "    <tr>\n",
       "      <th>1</th>\n",
       "      <td>EN608</td>\n",
       "      <td>1</td>\n",
       "      <td>5</td>\n",
       "      <td>5.174035</td>\n",
       "      <td>2.9635</td>\n",
       "      <td>2.574600e+01</td>\n",
       "    </tr>\n",
       "    <tr>\n",
       "      <th>2</th>\n",
       "      <td>EN608</td>\n",
       "      <td>1</td>\n",
       "      <td>9</td>\n",
       "      <td>5.387947</td>\n",
       "      <td>2.5430</td>\n",
       "      <td>1.283600e+02</td>\n",
       "    </tr>\n",
       "    <tr>\n",
       "      <th>3</th>\n",
       "      <td>EN608</td>\n",
       "      <td>1</td>\n",
       "      <td>19</td>\n",
       "      <td>5.344230</td>\n",
       "      <td>1.7145</td>\n",
       "      <td>6.749100e+02</td>\n",
       "    </tr>\n",
       "    <tr>\n",
       "      <th>4</th>\n",
       "      <td>EN608</td>\n",
       "      <td>19</td>\n",
       "      <td>1</td>\n",
       "      <td>0.014856</td>\n",
       "      <td>0.0020</td>\n",
       "      <td>1.000000e-12</td>\n",
       "    </tr>\n",
       "  </tbody>\n",
       "</table>\n",
       "</div>"
      ],
      "text/plain": [
       "  cruise  cast  niskin       chl  fleco_afl           par\n",
       "0  EN608     1       2  5.737033     3.9609  4.395900e+00\n",
       "1  EN608     1       5  5.174035     2.9635  2.574600e+01\n",
       "2  EN608     1       9  5.387947     2.5430  1.283600e+02\n",
       "3  EN608     1      19  5.344230     1.7145  6.749100e+02\n",
       "4  EN608    19       1  0.014856     0.0020  1.000000e-12"
      ]
     },
     "execution_count": 9,
     "metadata": {},
     "output_type": "execute_result"
    }
   ],
   "source": [
    "# merge sample and CTD data per-niskin\n",
    "merged = btl.merge(chl_avg, on=['cruise','cast','niskin'])\n",
    "\n",
    "# display a few rows to make sure we're doing it right\n",
    "merged[['cruise','cast','niskin','chl','fleco_afl','par']].head()"
   ]
  },
  {
   "cell_type": "markdown",
   "metadata": {},
   "source": [
    "The column containing CTD-derived data is called `fleco_afl` and the one containing the sample-derived data is called `chl`."
   ]
  },
  {
   "cell_type": "code",
   "execution_count": 11,
   "metadata": {},
   "outputs": [
    {
     "data": {
      "image/png": "[encoded data removed]",
      "text/plain": [
       "<Figure size 720x576 with 2 Axes>"
      ]
     },
     "metadata": {
      "needs_background": "light"
     },
     "output_type": "display_data"
    }
   ],
   "source": [
    "%matplotlib inline\n",
    "\n",
    "# now plot CTD against sampled data\n",
    "ax = merged.plot.scatter(\n",
    "    x='chl',\n",
    "    y='fleco_afl',\n",
    "    c='par',\n",
    "    s=50,\n",
    "    cmap='viridis',\n",
    "    edgecolor='black',\n",
    "    title='CHL concentration: CTD vs. sampled',\n",
    "    grid=True,\n",
    "    figsize=(10,8),\n",
    "    sharex=False\n",
    ")\n",
    "ax.set_xlabel('sampled')\n",
    "ax.set_ylabel('CTD')\n",
    "None"
   ]
  }
 ],
 "metadata": {
  "kernelspec": {
   "display_name": "Python [conda env:nes-lter-ims-dev]",
   "language": "python",
   "name": "conda-env-nes-lter-ims-dev-py"
  },
  "language_info": {
   "codemirror_mode": {
    "name": "ipython",
    "version": 3
   },
   "file_extension": ".py",
   "mimetype": "text/x-python",
   "name": "python",
   "nbconvert_exporter": "python",
   "pygments_lexer": "ipython3",
   "version": "3.6.6"
  }
 },
 "nbformat": 4,
 "nbformat_minor": 2
}
